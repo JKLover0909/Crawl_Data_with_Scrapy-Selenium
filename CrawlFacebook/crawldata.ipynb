{
 "cells": [
  {
   "cell_type": "code",
   "execution_count": 7,
   "metadata": {},
   "outputs": [],
   "source": [
    "from selenium import webdriver\n",
    "from selenium.webdriver.common.by import By\n",
    "from selenium.webdriver.support.ui import WebDriverWait\n",
    "from selenium.webdriver.support import expected_conditions as EC\n",
    "from selenium.common.exceptions import NoSuchElementException\n",
    "import schedule\n",
    "import time\n",
    "from time import sleep\n",
    "from datetime import datetime\n",
    "import mysql.connector"
   ]
  },
  {
   "cell_type": "code",
   "execution_count": 15,
   "metadata": {},
   "outputs": [
    {
     "ename": "NoSuchElementException",
     "evalue": "Message: no such element: Unable to locate element: {\"method\":\"css selector\",\"selector\":\"body > div > div > div > div > div:nth-child(5) > div > div > div > div > div:nth-child(2) > div > div > div > div > div\"}\n  (Session info: chrome=125.0.6422.142); For documentation on this error, please visit: https://www.selenium.dev/documentation/webdriver/troubleshooting/errors#no-such-element-exception\nStacktrace:\n\tGetHandleVerifier [0x00007FF771B21F52+60322]\n\t(No symbol) [0x00007FF771A9CEC9]\n\t(No symbol) [0x00007FF771957EBA]\n\t(No symbol) [0x00007FF7719A7676]\n\t(No symbol) [0x00007FF7719A773C]\n\t(No symbol) [0x00007FF7719EE967]\n\t(No symbol) [0x00007FF7719CC25F]\n\t(No symbol) [0x00007FF7719EBC80]\n\t(No symbol) [0x00007FF7719CBFC3]\n\t(No symbol) [0x00007FF771999617]\n\t(No symbol) [0x00007FF77199A211]\n\tGetHandleVerifier [0x00007FF771E394AD+3301629]\n\tGetHandleVerifier [0x00007FF771E836D3+3605283]\n\tGetHandleVerifier [0x00007FF771E79450+3563680]\n\tGetHandleVerifier [0x00007FF771BD4326+790390]\n\t(No symbol) [0x00007FF771AA750F]\n\t(No symbol) [0x00007FF771AA3404]\n\t(No symbol) [0x00007FF771AA3592]\n\t(No symbol) [0x00007FF771A92F9F]\n\tBaseThreadInitThunk [0x00007FFA87C0257D+29]\n\tRtlUserThreadStart [0x00007FFA88CCAA48+40]\n",
     "output_type": "error",
     "traceback": [
      "\u001b[1;31m---------------------------------------------------------------------------\u001b[0m",
      "\u001b[1;31mNoSuchElementException\u001b[0m                    Traceback (most recent call last)",
      "Cell \u001b[1;32mIn[15], line 74\u001b[0m\n\u001b[0;32m     71\u001b[0m schedule\u001b[38;5;241m.\u001b[39mevery(\u001b[38;5;241m2\u001b[39m)\u001b[38;5;241m.\u001b[39mminutes\u001b[38;5;241m.\u001b[39mdo(job) \n\u001b[0;32m     73\u001b[0m \u001b[38;5;28;01mwhile\u001b[39;00m \u001b[38;5;28;01mTrue\u001b[39;00m:\n\u001b[1;32m---> 74\u001b[0m     \u001b[43mschedule\u001b[49m\u001b[38;5;241;43m.\u001b[39;49m\u001b[43mrun_pending\u001b[49m\u001b[43m(\u001b[49m\u001b[43m)\u001b[49m\n\u001b[0;32m     75\u001b[0m     time\u001b[38;5;241m.\u001b[39msleep(\u001b[38;5;241m1\u001b[39m)    \n",
      "File \u001b[1;32mc:\\Python3.12\\Lib\\site-packages\\schedule\\__init__.py:854\u001b[0m, in \u001b[0;36mrun_pending\u001b[1;34m()\u001b[0m\n\u001b[0;32m    850\u001b[0m \u001b[38;5;28;01mdef\u001b[39;00m \u001b[38;5;21mrun_pending\u001b[39m() \u001b[38;5;241m-\u001b[39m\u001b[38;5;241m>\u001b[39m \u001b[38;5;28;01mNone\u001b[39;00m:\n\u001b[0;32m    851\u001b[0m \u001b[38;5;250m    \u001b[39m\u001b[38;5;124;03m\"\"\"Calls :meth:`run_pending <Scheduler.run_pending>` on the\u001b[39;00m\n\u001b[0;32m    852\u001b[0m \u001b[38;5;124;03m    :data:`default scheduler instance <default_scheduler>`.\u001b[39;00m\n\u001b[0;32m    853\u001b[0m \u001b[38;5;124;03m    \"\"\"\u001b[39;00m\n\u001b[1;32m--> 854\u001b[0m     \u001b[43mdefault_scheduler\u001b[49m\u001b[38;5;241;43m.\u001b[39;49m\u001b[43mrun_pending\u001b[49m\u001b[43m(\u001b[49m\u001b[43m)\u001b[49m\n",
      "File \u001b[1;32mc:\\Python3.12\\Lib\\site-packages\\schedule\\__init__.py:101\u001b[0m, in \u001b[0;36mScheduler.run_pending\u001b[1;34m(self)\u001b[0m\n\u001b[0;32m     99\u001b[0m runnable_jobs \u001b[38;5;241m=\u001b[39m (job \u001b[38;5;28;01mfor\u001b[39;00m job \u001b[38;5;129;01min\u001b[39;00m \u001b[38;5;28mself\u001b[39m\u001b[38;5;241m.\u001b[39mjobs \u001b[38;5;28;01mif\u001b[39;00m job\u001b[38;5;241m.\u001b[39mshould_run)\n\u001b[0;32m    100\u001b[0m \u001b[38;5;28;01mfor\u001b[39;00m job \u001b[38;5;129;01min\u001b[39;00m \u001b[38;5;28msorted\u001b[39m(runnable_jobs):\n\u001b[1;32m--> 101\u001b[0m     \u001b[38;5;28;43mself\u001b[39;49m\u001b[38;5;241;43m.\u001b[39;49m\u001b[43m_run_job\u001b[49m\u001b[43m(\u001b[49m\u001b[43mjob\u001b[49m\u001b[43m)\u001b[49m\n",
      "File \u001b[1;32mc:\\Python3.12\\Lib\\site-packages\\schedule\\__init__.py:173\u001b[0m, in \u001b[0;36mScheduler._run_job\u001b[1;34m(self, job)\u001b[0m\n\u001b[0;32m    172\u001b[0m \u001b[38;5;28;01mdef\u001b[39;00m \u001b[38;5;21m_run_job\u001b[39m(\u001b[38;5;28mself\u001b[39m, job: \u001b[38;5;124m\"\u001b[39m\u001b[38;5;124mJob\u001b[39m\u001b[38;5;124m\"\u001b[39m) \u001b[38;5;241m-\u001b[39m\u001b[38;5;241m>\u001b[39m \u001b[38;5;28;01mNone\u001b[39;00m:\n\u001b[1;32m--> 173\u001b[0m     ret \u001b[38;5;241m=\u001b[39m \u001b[43mjob\u001b[49m\u001b[38;5;241;43m.\u001b[39;49m\u001b[43mrun\u001b[49m\u001b[43m(\u001b[49m\u001b[43m)\u001b[49m\n\u001b[0;32m    174\u001b[0m     \u001b[38;5;28;01mif\u001b[39;00m \u001b[38;5;28misinstance\u001b[39m(ret, CancelJob) \u001b[38;5;129;01mor\u001b[39;00m ret \u001b[38;5;129;01mis\u001b[39;00m CancelJob:\n\u001b[0;32m    175\u001b[0m         \u001b[38;5;28mself\u001b[39m\u001b[38;5;241m.\u001b[39mcancel_job(job)\n",
      "File \u001b[1;32mc:\\Python3.12\\Lib\\site-packages\\schedule\\__init__.py:691\u001b[0m, in \u001b[0;36mJob.run\u001b[1;34m(self)\u001b[0m\n\u001b[0;32m    688\u001b[0m     \u001b[38;5;28;01mreturn\u001b[39;00m CancelJob\n\u001b[0;32m    690\u001b[0m logger\u001b[38;5;241m.\u001b[39mdebug(\u001b[38;5;124m\"\u001b[39m\u001b[38;5;124mRunning job \u001b[39m\u001b[38;5;132;01m%s\u001b[39;00m\u001b[38;5;124m\"\u001b[39m, \u001b[38;5;28mself\u001b[39m)\n\u001b[1;32m--> 691\u001b[0m ret \u001b[38;5;241m=\u001b[39m \u001b[38;5;28;43mself\u001b[39;49m\u001b[38;5;241;43m.\u001b[39;49m\u001b[43mjob_func\u001b[49m\u001b[43m(\u001b[49m\u001b[43m)\u001b[49m\n\u001b[0;32m    692\u001b[0m \u001b[38;5;28mself\u001b[39m\u001b[38;5;241m.\u001b[39mlast_run \u001b[38;5;241m=\u001b[39m datetime\u001b[38;5;241m.\u001b[39mdatetime\u001b[38;5;241m.\u001b[39mnow()\n\u001b[0;32m    693\u001b[0m \u001b[38;5;28mself\u001b[39m\u001b[38;5;241m.\u001b[39m_schedule_next_run()\n",
      "Cell \u001b[1;32mIn[11], line 9\u001b[0m, in \u001b[0;36mjob\u001b[1;34m()\u001b[0m\n\u001b[0;32m      7\u001b[0m driver \u001b[38;5;241m=\u001b[39m webdriver\u001b[38;5;241m.\u001b[39mChrome()\n\u001b[0;32m      8\u001b[0m driver\u001b[38;5;241m.\u001b[39mget(\u001b[38;5;124m'\u001b[39m\u001b[38;5;124mhttps://www.facebook.com/HocvienPTIT/?locale=vi_VN\u001b[39m\u001b[38;5;124m'\u001b[39m)\n\u001b[1;32m----> 9\u001b[0m close_button \u001b[38;5;241m=\u001b[39m \u001b[43mdriver\u001b[49m\u001b[38;5;241;43m.\u001b[39;49m\u001b[43mfind_element\u001b[49m\u001b[43m(\u001b[49m\u001b[43mBy\u001b[49m\u001b[38;5;241;43m.\u001b[39;49m\u001b[43mCSS_SELECTOR\u001b[49m\u001b[43m,\u001b[49m\u001b[43m \u001b[49m\u001b[38;5;124;43m'\u001b[39;49m\u001b[38;5;124;43mbody > div > div > div > div > div:nth-child(5) > div > div > div > div > div:nth-child(2) > div > div > div > div > div\u001b[39;49m\u001b[38;5;124;43m'\u001b[39;49m\u001b[43m)\u001b[49m\n\u001b[0;32m     10\u001b[0m close_button\u001b[38;5;241m.\u001b[39mclick()\n\u001b[0;32m     12\u001b[0m now \u001b[38;5;241m=\u001b[39m datetime\u001b[38;5;241m.\u001b[39mnow()\n",
      "File \u001b[1;32mc:\\Python3.12\\Lib\\site-packages\\selenium\\webdriver\\remote\\webdriver.py:741\u001b[0m, in \u001b[0;36mWebDriver.find_element\u001b[1;34m(self, by, value)\u001b[0m\n\u001b[0;32m    738\u001b[0m     by \u001b[38;5;241m=\u001b[39m By\u001b[38;5;241m.\u001b[39mCSS_SELECTOR\n\u001b[0;32m    739\u001b[0m     value \u001b[38;5;241m=\u001b[39m \u001b[38;5;124mf\u001b[39m\u001b[38;5;124m'\u001b[39m\u001b[38;5;124m[name=\u001b[39m\u001b[38;5;124m\"\u001b[39m\u001b[38;5;132;01m{\u001b[39;00mvalue\u001b[38;5;132;01m}\u001b[39;00m\u001b[38;5;124m\"\u001b[39m\u001b[38;5;124m]\u001b[39m\u001b[38;5;124m'\u001b[39m\n\u001b[1;32m--> 741\u001b[0m \u001b[38;5;28;01mreturn\u001b[39;00m \u001b[38;5;28;43mself\u001b[39;49m\u001b[38;5;241;43m.\u001b[39;49m\u001b[43mexecute\u001b[49m\u001b[43m(\u001b[49m\u001b[43mCommand\u001b[49m\u001b[38;5;241;43m.\u001b[39;49m\u001b[43mFIND_ELEMENT\u001b[49m\u001b[43m,\u001b[49m\u001b[43m \u001b[49m\u001b[43m{\u001b[49m\u001b[38;5;124;43m\"\u001b[39;49m\u001b[38;5;124;43musing\u001b[39;49m\u001b[38;5;124;43m\"\u001b[39;49m\u001b[43m:\u001b[49m\u001b[43m \u001b[49m\u001b[43mby\u001b[49m\u001b[43m,\u001b[49m\u001b[43m \u001b[49m\u001b[38;5;124;43m\"\u001b[39;49m\u001b[38;5;124;43mvalue\u001b[39;49m\u001b[38;5;124;43m\"\u001b[39;49m\u001b[43m:\u001b[49m\u001b[43m \u001b[49m\u001b[43mvalue\u001b[49m\u001b[43m}\u001b[49m\u001b[43m)\u001b[49m[\u001b[38;5;124m\"\u001b[39m\u001b[38;5;124mvalue\u001b[39m\u001b[38;5;124m\"\u001b[39m]\n",
      "File \u001b[1;32mc:\\Python3.12\\Lib\\site-packages\\selenium\\webdriver\\remote\\webdriver.py:347\u001b[0m, in \u001b[0;36mWebDriver.execute\u001b[1;34m(self, driver_command, params)\u001b[0m\n\u001b[0;32m    345\u001b[0m response \u001b[38;5;241m=\u001b[39m \u001b[38;5;28mself\u001b[39m\u001b[38;5;241m.\u001b[39mcommand_executor\u001b[38;5;241m.\u001b[39mexecute(driver_command, params)\n\u001b[0;32m    346\u001b[0m \u001b[38;5;28;01mif\u001b[39;00m response:\n\u001b[1;32m--> 347\u001b[0m     \u001b[38;5;28;43mself\u001b[39;49m\u001b[38;5;241;43m.\u001b[39;49m\u001b[43merror_handler\u001b[49m\u001b[38;5;241;43m.\u001b[39;49m\u001b[43mcheck_response\u001b[49m\u001b[43m(\u001b[49m\u001b[43mresponse\u001b[49m\u001b[43m)\u001b[49m\n\u001b[0;32m    348\u001b[0m     response[\u001b[38;5;124m\"\u001b[39m\u001b[38;5;124mvalue\u001b[39m\u001b[38;5;124m\"\u001b[39m] \u001b[38;5;241m=\u001b[39m \u001b[38;5;28mself\u001b[39m\u001b[38;5;241m.\u001b[39m_unwrap_value(response\u001b[38;5;241m.\u001b[39mget(\u001b[38;5;124m\"\u001b[39m\u001b[38;5;124mvalue\u001b[39m\u001b[38;5;124m\"\u001b[39m, \u001b[38;5;28;01mNone\u001b[39;00m))\n\u001b[0;32m    349\u001b[0m     \u001b[38;5;28;01mreturn\u001b[39;00m response\n",
      "File \u001b[1;32mc:\\Python3.12\\Lib\\site-packages\\selenium\\webdriver\\remote\\errorhandler.py:229\u001b[0m, in \u001b[0;36mErrorHandler.check_response\u001b[1;34m(self, response)\u001b[0m\n\u001b[0;32m    227\u001b[0m         alert_text \u001b[38;5;241m=\u001b[39m value[\u001b[38;5;124m\"\u001b[39m\u001b[38;5;124malert\u001b[39m\u001b[38;5;124m\"\u001b[39m]\u001b[38;5;241m.\u001b[39mget(\u001b[38;5;124m\"\u001b[39m\u001b[38;5;124mtext\u001b[39m\u001b[38;5;124m\"\u001b[39m)\n\u001b[0;32m    228\u001b[0m     \u001b[38;5;28;01mraise\u001b[39;00m exception_class(message, screen, stacktrace, alert_text)  \u001b[38;5;66;03m# type: ignore[call-arg]  # mypy is not smart enough here\u001b[39;00m\n\u001b[1;32m--> 229\u001b[0m \u001b[38;5;28;01mraise\u001b[39;00m exception_class(message, screen, stacktrace)\n",
      "\u001b[1;31mNoSuchElementException\u001b[0m: Message: no such element: Unable to locate element: {\"method\":\"css selector\",\"selector\":\"body > div > div > div > div > div:nth-child(5) > div > div > div > div > div:nth-child(2) > div > div > div > div > div\"}\n  (Session info: chrome=125.0.6422.142); For documentation on this error, please visit: https://www.selenium.dev/documentation/webdriver/troubleshooting/errors#no-such-element-exception\nStacktrace:\n\tGetHandleVerifier [0x00007FF771B21F52+60322]\n\t(No symbol) [0x00007FF771A9CEC9]\n\t(No symbol) [0x00007FF771957EBA]\n\t(No symbol) [0x00007FF7719A7676]\n\t(No symbol) [0x00007FF7719A773C]\n\t(No symbol) [0x00007FF7719EE967]\n\t(No symbol) [0x00007FF7719CC25F]\n\t(No symbol) [0x00007FF7719EBC80]\n\t(No symbol) [0x00007FF7719CBFC3]\n\t(No symbol) [0x00007FF771999617]\n\t(No symbol) [0x00007FF77199A211]\n\tGetHandleVerifier [0x00007FF771E394AD+3301629]\n\tGetHandleVerifier [0x00007FF771E836D3+3605283]\n\tGetHandleVerifier [0x00007FF771E79450+3563680]\n\tGetHandleVerifier [0x00007FF771BD4326+790390]\n\t(No symbol) [0x00007FF771AA750F]\n\t(No symbol) [0x00007FF771AA3404]\n\t(No symbol) [0x00007FF771AA3592]\n\t(No symbol) [0x00007FF771A92F9F]\n\tBaseThreadInitThunk [0x00007FFA87C0257D+29]\n\tRtlUserThreadStart [0x00007FFA88CCAA48+40]\n"
     ]
    }
   ],
   "source": [
    "def job():\n",
    "    cnx = mysql.connector.connect(user='root', password='',\n",
    "                                    host='127.0.0.1',\n",
    "                                    database='ttcs')\n",
    "    cursor = cnx.cursor()  \n",
    "\n",
    "    driver = webdriver.Chrome()\n",
    "    driver.get('https://www.facebook.com/HocvienPTIT/?locale=vi_VN')\n",
    "    close_button = driver.find_element(By.CSS_SELECTOR, 'body > div > div > div > div > div:nth-child(5) > div > div > div > div > div:nth-child(2) > div > div > div > div > div ')\n",
    "    close_button.click()\n",
    "\n",
    "    now = datetime.now()\n",
    "    current_time = now.strftime(\"%H:%M:%S\")\n",
    "\n",
    "    for i in range(5):\n",
    "        driver.execute_script(\"window.scrollBy(0, 1000);\")\n",
    "        time.sleep(2)\n",
    "\n",
    "    WebDriverWait(driver, 10).until(\n",
    "    EC.presence_of_element_located(\n",
    "                (By.CSS_SELECTOR, '.x9f619.x1n2onr6.x1ja2u2z.xeuugli.x1iyjqo2.xs83m0k.x1xmf6yo.x1emribx.x1e56ztr.x1i64zmx.xjl7jj.x19h7ccj.x65f84u > div:first-child')\n",
    "            )\n",
    "        )\n",
    "    for i in range(10):\n",
    "        try:\n",
    "            z = i+1 \n",
    "            post = driver.find_element(\n",
    "                By.CSS_SELECTOR, f'.x9f619.x1n2onr6.x1ja2u2z.xeuugli.x1iyjqo2.xs83m0k.x1xmf6yo.x1emribx.x1e56ztr.x1i64zmx.xjl7jj.x19h7ccj.x65f84u > div:first-child >div:nth-child({z})'\n",
    "                )\n",
    "            \n",
    "            target= post.find_element(\n",
    "                By.CSS_SELECTOR, '.xdj266r.x11i5rnm.xat24cr.x1mh8g0r.x1vvkbs.x126k92a > div:first-child'\n",
    "                )\n",
    "            \n",
    "            emotion = post.find_element(\n",
    "                By.CSS_SELECTOR, '.xrbpyxo.x6ikm8r.x10wlt62.xlyipyv.x1exxlbk .x1e558r4'\n",
    "                )\n",
    "            \n",
    "            comments_and_shares = post.find_elements(\n",
    "                By.CSS_SELECTOR, '.x9f619.x1n2onr6.x1ja2u2z.x78zum5.x2lah0s.x1qughib.x1qjc9v5.xozqiw3.x1q0g3np.xykv574.xbmpl8g.x4cne27.xifccgj .x193iq5w.xeuugli.x13faqbe.x1vvkbs.x1xmvt09.x1lliihq.x1s928wv.xhkezso.x1gmr53x.x1cpjm7i.x1fgarty.x1943h6x.xudqn12.x3x7a5m.x6prxxf.xvq8zen.xo1l8bm.xi81zsa'\n",
    "            ) \n",
    "            \n",
    "            title = target.text\n",
    "            emotion = emotion.text\n",
    "            try:\n",
    "                comment = comments_and_shares[0].text\n",
    "                share = comments_and_shares[1].text\n",
    "            except IndexError:\n",
    "                return \"0\"\n",
    "            \n",
    "            print(f\"Div {z} text: {title}\")\n",
    "            print(f\"Div {z} emotion: {emotion}\")\n",
    "            print(f\"Div {z} comment: {comment}\")\n",
    "            print(f\"Div {z} share: {share}\")\n",
    "            print(\"----------------------------------------------------\")\n",
    "            \n",
    "            add_data = (\"INSERT INTO datacrawl \"\n",
    "                        \"(title, react, comment, share, time ) \"\n",
    "                        \"VALUES (%s, %s, %s, %s, %s)\")\n",
    "            \n",
    "            data = (title, emotion, comment, share, current_time)\n",
    "            cursor.execute(add_data, data)\n",
    "            cnx.commit() \n",
    "                    \n",
    "        except NoSuchElementException:\n",
    "            print(f\"Div {z} không có phần tử target.\")\n",
    "            continue\n",
    "            \n",
    "    sleep(5)\n",
    "    driver.close()\n",
    "    cursor.close()\n",
    "    cnx.close()\n",
    "    \n",
    "schedule.every(2).minutes.do(job) \n",
    "\n",
    "while True:\n",
    "    schedule.run_pending()\n",
    "    time.sleep(1)    "
   ]
  },
  {
   "cell_type": "code",
   "execution_count": 21,
   "metadata": {},
   "outputs": [
    {
     "ename": "NoSuchElementException",
     "evalue": "Message: no such element: Unable to locate element: {\"method\":\"css selector\",\"selector\":\"body > div > div > div > div > div:nth-child(5) > div > div > div > div > div:nth-child(2) > div > div > div > div > div\"}\n  (Session info: chrome=125.0.6422.142); For documentation on this error, please visit: https://www.selenium.dev/documentation/webdriver/troubleshooting/errors#no-such-element-exception\nStacktrace:\n\tGetHandleVerifier [0x00007FF771B21F52+60322]\n\t(No symbol) [0x00007FF771A9CEC9]\n\t(No symbol) [0x00007FF771957EBA]\n\t(No symbol) [0x00007FF7719A7676]\n\t(No symbol) [0x00007FF7719A773C]\n\t(No symbol) [0x00007FF7719EE967]\n\t(No symbol) [0x00007FF7719CC25F]\n\t(No symbol) [0x00007FF7719EBC80]\n\t(No symbol) [0x00007FF7719CBFC3]\n\t(No symbol) [0x00007FF771999617]\n\t(No symbol) [0x00007FF77199A211]\n\tGetHandleVerifier [0x00007FF771E394AD+3301629]\n\tGetHandleVerifier [0x00007FF771E836D3+3605283]\n\tGetHandleVerifier [0x00007FF771E79450+3563680]\n\tGetHandleVerifier [0x00007FF771BD4326+790390]\n\t(No symbol) [0x00007FF771AA750F]\n\t(No symbol) [0x00007FF771AA3404]\n\t(No symbol) [0x00007FF771AA3592]\n\t(No symbol) [0x00007FF771A92F9F]\n\tBaseThreadInitThunk [0x00007FFA87C0257D+29]\n\tRtlUserThreadStart [0x00007FFA88CCAA48+40]\n",
     "output_type": "error",
     "traceback": [
      "\u001b[1;31m---------------------------------------------------------------------------\u001b[0m",
      "\u001b[1;31mNoSuchElementException\u001b[0m                    Traceback (most recent call last)",
      "Cell \u001b[1;32mIn[21], line 1\u001b[0m\n\u001b[1;32m----> 1\u001b[0m \u001b[43mjob\u001b[49m\u001b[43m(\u001b[49m\u001b[43m)\u001b[49m\n",
      "Cell \u001b[1;32mIn[15], line 9\u001b[0m, in \u001b[0;36mjob\u001b[1;34m()\u001b[0m\n\u001b[0;32m      7\u001b[0m driver \u001b[38;5;241m=\u001b[39m webdriver\u001b[38;5;241m.\u001b[39mChrome()\n\u001b[0;32m      8\u001b[0m driver\u001b[38;5;241m.\u001b[39mget(\u001b[38;5;124m'\u001b[39m\u001b[38;5;124mhttps://www.facebook.com/HocvienPTIT/?locale=vi_VN\u001b[39m\u001b[38;5;124m'\u001b[39m)\n\u001b[1;32m----> 9\u001b[0m close_button \u001b[38;5;241m=\u001b[39m \u001b[43mdriver\u001b[49m\u001b[38;5;241;43m.\u001b[39;49m\u001b[43mfind_element\u001b[49m\u001b[43m(\u001b[49m\u001b[43mBy\u001b[49m\u001b[38;5;241;43m.\u001b[39;49m\u001b[43mCSS_SELECTOR\u001b[49m\u001b[43m,\u001b[49m\u001b[43m \u001b[49m\u001b[38;5;124;43m'\u001b[39;49m\u001b[38;5;124;43mbody > div > div > div > div > div:nth-child(5) > div > div > div > div > div:nth-child(2) > div > div > div > div > div\u001b[39;49m\u001b[38;5;124;43m'\u001b[39;49m\u001b[43m)\u001b[49m\n\u001b[0;32m     10\u001b[0m close_button\u001b[38;5;241m.\u001b[39mclick()\n\u001b[0;32m     12\u001b[0m now \u001b[38;5;241m=\u001b[39m datetime\u001b[38;5;241m.\u001b[39mnow()\n",
      "File \u001b[1;32mc:\\Python3.12\\Lib\\site-packages\\selenium\\webdriver\\remote\\webdriver.py:741\u001b[0m, in \u001b[0;36mWebDriver.find_element\u001b[1;34m(self, by, value)\u001b[0m\n\u001b[0;32m    738\u001b[0m     by \u001b[38;5;241m=\u001b[39m By\u001b[38;5;241m.\u001b[39mCSS_SELECTOR\n\u001b[0;32m    739\u001b[0m     value \u001b[38;5;241m=\u001b[39m \u001b[38;5;124mf\u001b[39m\u001b[38;5;124m'\u001b[39m\u001b[38;5;124m[name=\u001b[39m\u001b[38;5;124m\"\u001b[39m\u001b[38;5;132;01m{\u001b[39;00mvalue\u001b[38;5;132;01m}\u001b[39;00m\u001b[38;5;124m\"\u001b[39m\u001b[38;5;124m]\u001b[39m\u001b[38;5;124m'\u001b[39m\n\u001b[1;32m--> 741\u001b[0m \u001b[38;5;28;01mreturn\u001b[39;00m \u001b[38;5;28;43mself\u001b[39;49m\u001b[38;5;241;43m.\u001b[39;49m\u001b[43mexecute\u001b[49m\u001b[43m(\u001b[49m\u001b[43mCommand\u001b[49m\u001b[38;5;241;43m.\u001b[39;49m\u001b[43mFIND_ELEMENT\u001b[49m\u001b[43m,\u001b[49m\u001b[43m \u001b[49m\u001b[43m{\u001b[49m\u001b[38;5;124;43m\"\u001b[39;49m\u001b[38;5;124;43musing\u001b[39;49m\u001b[38;5;124;43m\"\u001b[39;49m\u001b[43m:\u001b[49m\u001b[43m \u001b[49m\u001b[43mby\u001b[49m\u001b[43m,\u001b[49m\u001b[43m \u001b[49m\u001b[38;5;124;43m\"\u001b[39;49m\u001b[38;5;124;43mvalue\u001b[39;49m\u001b[38;5;124;43m\"\u001b[39;49m\u001b[43m:\u001b[49m\u001b[43m \u001b[49m\u001b[43mvalue\u001b[49m\u001b[43m}\u001b[49m\u001b[43m)\u001b[49m[\u001b[38;5;124m\"\u001b[39m\u001b[38;5;124mvalue\u001b[39m\u001b[38;5;124m\"\u001b[39m]\n",
      "File \u001b[1;32mc:\\Python3.12\\Lib\\site-packages\\selenium\\webdriver\\remote\\webdriver.py:347\u001b[0m, in \u001b[0;36mWebDriver.execute\u001b[1;34m(self, driver_command, params)\u001b[0m\n\u001b[0;32m    345\u001b[0m response \u001b[38;5;241m=\u001b[39m \u001b[38;5;28mself\u001b[39m\u001b[38;5;241m.\u001b[39mcommand_executor\u001b[38;5;241m.\u001b[39mexecute(driver_command, params)\n\u001b[0;32m    346\u001b[0m \u001b[38;5;28;01mif\u001b[39;00m response:\n\u001b[1;32m--> 347\u001b[0m     \u001b[38;5;28;43mself\u001b[39;49m\u001b[38;5;241;43m.\u001b[39;49m\u001b[43merror_handler\u001b[49m\u001b[38;5;241;43m.\u001b[39;49m\u001b[43mcheck_response\u001b[49m\u001b[43m(\u001b[49m\u001b[43mresponse\u001b[49m\u001b[43m)\u001b[49m\n\u001b[0;32m    348\u001b[0m     response[\u001b[38;5;124m\"\u001b[39m\u001b[38;5;124mvalue\u001b[39m\u001b[38;5;124m\"\u001b[39m] \u001b[38;5;241m=\u001b[39m \u001b[38;5;28mself\u001b[39m\u001b[38;5;241m.\u001b[39m_unwrap_value(response\u001b[38;5;241m.\u001b[39mget(\u001b[38;5;124m\"\u001b[39m\u001b[38;5;124mvalue\u001b[39m\u001b[38;5;124m\"\u001b[39m, \u001b[38;5;28;01mNone\u001b[39;00m))\n\u001b[0;32m    349\u001b[0m     \u001b[38;5;28;01mreturn\u001b[39;00m response\n",
      "File \u001b[1;32mc:\\Python3.12\\Lib\\site-packages\\selenium\\webdriver\\remote\\errorhandler.py:229\u001b[0m, in \u001b[0;36mErrorHandler.check_response\u001b[1;34m(self, response)\u001b[0m\n\u001b[0;32m    227\u001b[0m         alert_text \u001b[38;5;241m=\u001b[39m value[\u001b[38;5;124m\"\u001b[39m\u001b[38;5;124malert\u001b[39m\u001b[38;5;124m\"\u001b[39m]\u001b[38;5;241m.\u001b[39mget(\u001b[38;5;124m\"\u001b[39m\u001b[38;5;124mtext\u001b[39m\u001b[38;5;124m\"\u001b[39m)\n\u001b[0;32m    228\u001b[0m     \u001b[38;5;28;01mraise\u001b[39;00m exception_class(message, screen, stacktrace, alert_text)  \u001b[38;5;66;03m# type: ignore[call-arg]  # mypy is not smart enough here\u001b[39;00m\n\u001b[1;32m--> 229\u001b[0m \u001b[38;5;28;01mraise\u001b[39;00m exception_class(message, screen, stacktrace)\n",
      "\u001b[1;31mNoSuchElementException\u001b[0m: Message: no such element: Unable to locate element: {\"method\":\"css selector\",\"selector\":\"body > div > div > div > div > div:nth-child(5) > div > div > div > div > div:nth-child(2) > div > div > div > div > div\"}\n  (Session info: chrome=125.0.6422.142); For documentation on this error, please visit: https://www.selenium.dev/documentation/webdriver/troubleshooting/errors#no-such-element-exception\nStacktrace:\n\tGetHandleVerifier [0x00007FF771B21F52+60322]\n\t(No symbol) [0x00007FF771A9CEC9]\n\t(No symbol) [0x00007FF771957EBA]\n\t(No symbol) [0x00007FF7719A7676]\n\t(No symbol) [0x00007FF7719A773C]\n\t(No symbol) [0x00007FF7719EE967]\n\t(No symbol) [0x00007FF7719CC25F]\n\t(No symbol) [0x00007FF7719EBC80]\n\t(No symbol) [0x00007FF7719CBFC3]\n\t(No symbol) [0x00007FF771999617]\n\t(No symbol) [0x00007FF77199A211]\n\tGetHandleVerifier [0x00007FF771E394AD+3301629]\n\tGetHandleVerifier [0x00007FF771E836D3+3605283]\n\tGetHandleVerifier [0x00007FF771E79450+3563680]\n\tGetHandleVerifier [0x00007FF771BD4326+790390]\n\t(No symbol) [0x00007FF771AA750F]\n\t(No symbol) [0x00007FF771AA3404]\n\t(No symbol) [0x00007FF771AA3592]\n\t(No symbol) [0x00007FF771A92F9F]\n\tBaseThreadInitThunk [0x00007FFA87C0257D+29]\n\tRtlUserThreadStart [0x00007FFA88CCAA48+40]\n"
     ]
    }
   ],
   "source": [
    "job()"
   ]
  }
 ],
 "metadata": {
  "kernelspec": {
   "display_name": "Python 3",
   "language": "python",
   "name": "python3"
  },
  "language_info": {
   "codemirror_mode": {
    "name": "ipython",
    "version": 3
   },
   "file_extension": ".py",
   "mimetype": "text/x-python",
   "name": "python",
   "nbconvert_exporter": "python",
   "pygments_lexer": "ipython3",
   "version": "3.12.2"
  }
 },
 "nbformat": 4,
 "nbformat_minor": 2
}
